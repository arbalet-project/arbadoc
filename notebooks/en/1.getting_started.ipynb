{
 "metadata": {
  "name": "",
  "signature": "sha256:60f77f75eb7123f9eb1069db34985c5d1b6366948265baa4e618b8b063fadd3d"
 },
 "nbformat": 3,
 "nbformat_minor": 0,
 "worksheets": [
  {
   "cells": [
    {
     "cell_type": "markdown",
     "metadata": {},
     "source": [
      "#Getting started with Arbalet\n",
      "## Prerequisites\n",
      "In this notebook we learn how to start lightning our first pixels with Arbalet. This can be used to control the simulation, the physical table or both at a time.\n",
      "\n",
      "You should have read the [software tutorials](https://github.com/arbalet-project/arbadoc/wiki/Software-tutorials) to install the Python SDK on you Linux computer first.\n",
      "\n",
      "### Details about notebooks\n",
      "If you are not familiar with ipython notebook, just remind that all the code cells below are individually executable by pressing Alt+Enter. Follow the explanations preceeding each cell and execute it as we go along, you can also change some parameters and re-execute them!"
     ]
    },
    {
     "cell_type": "markdown",
     "metadata": {},
     "source": [
      "Let's import the interactive controller first:"
     ]
    },
    {
     "cell_type": "code",
     "collapsed": false,
     "input": [
      "from arbalet.interactive import Arbalet"
     ],
     "language": "python",
     "metadata": {},
     "outputs": []
    },
    {
     "cell_type": "markdown",
     "metadata": {},
     "source": [
      "If you see an `ImportError` occuring, then your SDK is not properly installed, follow the [software tutorials](https://github.com/arbalet-project/arbadoc/wiki/Software-tutorials) first.\n",
      "\n",
      "Now we declare an instance of the `Arbalet()` controller. We can specify here if we connect to a simulated or a real table, just set `hardware` to `True` if you have the real table connected, the simulation is enabled by default and must pop up."
     ]
    },
    {
     "cell_type": "code",
     "collapsed": false,
     "input": [
      "arbalet = Arbalet(hardware=False)"
     ],
     "language": "python",
     "metadata": {},
     "outputs": []
    },
    {
     "cell_type": "markdown",
     "metadata": {},
     "source": [
      "Within the `arbalet` object, there is instance of class `Model` representing a view to display on the table. A model is a snapshot of all pixels at a given time. Several models can overlap, so they have different names. Yours is basically called `model` and is initially fully black, corresponding to all pixels off.\n",
      "\n",
      "Let's set the color `deep pink` to all pixels of this model thanks the method `set_all` :"
     ]
    },
    {
     "cell_type": "code",
     "collapsed": false,
     "input": [
      "arbalet.model.set_all(\"deeppink\")"
     ],
     "language": "python",
     "metadata": {},
     "outputs": []
    },
    {
     "cell_type": "markdown",
     "metadata": {},
     "source": [
      "If everything went well your simulation and/or your hardware must be coloured in pink.\n",
      "\n",
      "We can also colorize pixels individually by providing their coordinates `(h, w)` where `h` is the row between 0 and 14 and `w` is the column between 0 and 9. Any coordinate outside this range will likely raise an error.\n",
      "\n",
      "Let's colorize the pixel at coordinates `0, 0` in cyan:"
     ]
    },
    {
     "cell_type": "code",
     "collapsed": false,
     "input": [
      "arbalet.model.set_pixel(0, 0, 'cyan')"
     ],
     "language": "python",
     "metadata": {},
     "outputs": []
    },
    {
     "cell_type": "markdown",
     "metadata": {},
     "source": [
      "This pixel has now switched from pink to cyan. Since it's the pixel at coordinates `0, 0` it means that the origin of coordinate system is top left."
     ]
    },
    {
     "cell_type": "markdown",
     "metadata": {},
     "source": [
      "This is already the end of the first tuto, before ending the program don't forget to close arbalet by executing the last cell below. This call ensures that all hardware and software resources used to run Arbalet are released properly in order not to conflict for your next program. Forgetting this call might making your table behaving odd!"
     ]
    },
    {
     "cell_type": "code",
     "collapsed": false,
     "input": [
      "arbalet.close()"
     ],
     "language": "python",
     "metadata": {},
     "outputs": []
    },
    {
     "cell_type": "markdown",
     "metadata": {},
     "source": [
      "N.B.: Although it causes the simulator to shut down, closing does not mean that the hardware will switch off, it only means that the pixels are no longer controlled by your computer, they kept the same colour until the table is unplugged from power.\n",
      "\n",
      "Now you can re-open the \"IPython Dashboard\" tab and follow the next tutorial _2. Pixels, size, and colors_ to learn more about playing in the pixelised and colorful world of Arbalet!"
     ]
    }
   ],
   "metadata": {}
  }
 ]
}