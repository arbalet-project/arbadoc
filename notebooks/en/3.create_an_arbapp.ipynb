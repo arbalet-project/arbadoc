{
 "metadata": {
  "name": "",
  "signature": "sha256:ca5859f2f546f336eea404836f5b40bbc61269c3525362b987eb606f11c76fa3"
 },
 "nbformat": 3,
 "nbformat_minor": 0,
 "worksheets": [
  {
   "cells": [
    {
     "cell_type": "markdown",
     "metadata": {},
     "source": [
      "# Create an Arbalet application"
     ]
    },
    {
     "cell_type": "markdown",
     "metadata": {},
     "source": [
      "Now we know the bare interface to send models to our table, we learn now how to package a more complex application for Arbalet by inheriting from a class literrally named `Application`. This tutorial assumes that you already know the basics of [Object-Oriented Programming](http://en.wikipedia.org/Object-oriented programming) and especially the notions of class, its constructor, the attributes/methods of a class, and inheritance."
     ]
    },
    {
     "cell_type": "markdown",
     "metadata": {},
     "source": [
      "The mother class `Application` already contains all what we need to create an application packaged into a class. We don't even need to import `Arbalet` nor `Mdel` since they are already included in this magic `Application` class. Let's start by importing some modules:"
     ]
    },
    {
     "cell_type": "code",
     "collapsed": false,
     "input": [
      "from arbalet.application import Application\n",
      "from arbalet.tools import Rate\n",
      "from __future__ import print_function"
     ],
     "language": "python",
     "metadata": {},
     "outputs": []
    },
    {
     "cell_type": "markdown",
     "metadata": {},
     "source": [
      "## Create a stub of application"
     ]
    },
    {
     "cell_type": "markdown",
     "metadata": {},
     "source": [
      "Now we create a stub for our custom application `WormApp`, displaying a worm by inheriting from `Application` and creating an empty constructor."
     ]
    },
    {
     "cell_type": "code",
     "collapsed": false,
     "input": [
      "class WormApp(Application):\n",
      "    def __init__(self):\n",
      "        super(WormApp, self).__init__()  # Basic inheritance calls the super constructor"
     ],
     "language": "python",
     "metadata": {},
     "outputs": []
    },
    {
     "cell_type": "markdown",
     "metadata": {},
     "source": [
      "The previous cell contains almost no code so it does not show anything, this is just the basic template we are going to improve. "
     ]
    },
    {
     "cell_type": "markdown",
     "metadata": {},
     "source": [
      "This `Application` class is just a way of packaging/organizing an application, but the most important point to remember is just that it contains an `Arbalet` controller class accessible via `WormApp.arbalet` and that all the code of the application must be in the `run()` method.\n",
      "\n",
      "This way of packaging the app in the `Application` class might looks silly at first sight but allows powerful features such as application inheritence and method overloading, automatic closure and more.\n",
      "\n",
      "To illustrate this, we can just print the size of the connected table in `run()`:"
     ]
    },
    {
     "cell_type": "code",
     "collapsed": false,
     "input": [
      "class WormApp(Application):\n",
      "    def __init__(self):\n",
      "        super(WormApp, self).__init__()\n",
      "    \n",
      "    def run(self):\n",
      "        print(\"My height:\", self.height, \"pixels\")    # Contains the number of pixels in height (15 for the default table)\n",
      "        print(\"My width:\", self.width, \"pixels\")      # Contains the number of pixels in width (10 for the default table)"
     ],
     "language": "python",
     "metadata": {},
     "outputs": []
    },
    {
     "cell_type": "markdown",
     "metadata": {},
     "source": [
      "Execution of the previous cell did not show anything, because this is only the **declaration** of the application `WormApp`, running it requires a call to `start()`:"
     ]
    },
    {
     "cell_type": "code",
     "collapsed": false,
     "input": [
      "WormApp().start()"
     ],
     "language": "python",
     "metadata": {},
     "outputs": []
    },
    {
     "cell_type": "markdown",
     "metadata": {},
     "source": [
      "This time the code in `run()` has been executed and the size has been printed, but the simulator opened and closed instantly. This is because this app has a very short execution time, and because the `Application` class always release resources when there is no more code to run in `run()`, thus using `Application` there is no more need for calling `close()`, it is automatic."
     ]
    },
    {
     "cell_type": "markdown",
     "metadata": {},
     "source": [
      "## Improve the worm app with actual code dealing with pixels"
     ]
    },
    {
     "cell_type": "markdown",
     "metadata": {},
     "source": [
      "In the previous tutorial we have drawn a flag with no harcoded digit and used only fields width and height. In practice your application __must__ use these fields to adapt its content to any size. In some occasions you will need some constraints to be respected, e.g. some ratio between height and width, an odd or even number of columns or rows, or, more rarely, a specific size. In that case you should check at starting whether the constraints are respected and, if not, exit cleanly with a meaningful error message."
     ]
    },
    {
     "cell_type": "markdown",
     "metadata": {},
     "source": [
      "This class also provides various **services**, allowing you to start all **background servers** (generating joystick events, or connecting to the hardware, or displaying a simulator...) or applying some parameters (hostname of an Arbalet server, rotation of 90 degrees, ...). However, you must ensure that your redirect all useful arguments to this class, this is the purpose of `**kwargs`, which, in our case, forward all the rest of named parameters such as `hardware=True` to the `Application` class. "
     ]
    },
    {
     "cell_type": "markdown",
     "metadata": {},
     "source": [
      "For our Worm application, let's add a `color` parameter, i.e. a string corresponding to the color of the worm, red by default. We recover this color parameter in the constructor and forward all others to the Application class thanks to `**kwargs` as above."
     ]
    },
    {
     "cell_type": "code",
     "collapsed": false,
     "input": [
      "class WormApp(Application):\n",
      "    def __init__(self, color='red', **kwargs):\n",
      "        super(WormApp, self).__init__(**kwargs)\n",
      "        self.my_color = color"
     ],
     "language": "python",
     "metadata": {},
     "outputs": []
    },
    {
     "cell_type": "markdown",
     "metadata": {},
     "source": [
      "The constructor should just be used to initialize the workspace, declare arguments, and eventually initialize the model with some color, not more. The heart of the application must overload the method `Application.run()`. This `run()` also comes with a `start()` whose call ensures that all the resources are closed after a successful or failed run.\n",
      "\n",
      "As our first code in `run()`, let's display a red pixel browsing the whole table. For this we will simply cleanup the model (setting all pixels black with `set_all()`) and then attributing the red color to a single pixel with `set_pixel()`.\n",
      "\n",
      "There are 3 important elements in the piece of code we are going to write:\n",
      "\n",
      "## The `Rate` class\n",
      "The `Rate` class is a controlled loop, it allows you to loop at a specific frame rate in hertz whatever the time your calculations take (assuming that the CPU is not overloaded). For instance `Rate(5)` will loop at ~5Hz, resulting each pixel to stay lit 200ms.\n",
      "\n",
      "## Model locking\n",
      "The `with self.model` statement allows to lock the model. In general this prevents the hardware and simulator from reading an unstable frame. For instance, to draw the next pixel we decided to set all pixels to black. If the frame is sent to the table right after `set_all` the table will actually show a black screen which we do not want. Therefore, locking the model while painting on it allows to display only stable models.\n",
      "\n",
      "## Text display\n",
      "The model allows to render pixelated text on the table thanks to a single call `model.write(\"Some text\", \"color\")`"
     ]
    },
    {
     "cell_type": "code",
     "collapsed": false,
     "input": [
      "class WormApp(Application):\n",
      "    def __init__(self, color='red', **kwargs):\n",
      "        super(WormApp, self).__init__(**kwargs)\n",
      "        self.my_color = color\n",
      "\n",
      "    def run(self):\n",
      "        # We start by displaying some text\n",
      "        self.model.write('My color: ' + self.my_color.upper(), self.my_color)\n",
      "\n",
      "        # Then we display the actual worm\n",
      "        rate = Rate(5)\n",
      "        for h in range(self.height):\n",
      "            for w in range(self.width):\n",
      "                with self.model:\n",
      "                    self.model.set_all('black')\n",
      "                    # The model is now all black (i.e. light off), in an unstable state\n",
      "                    self.model.set_pixel(h, w, self.my_color)\n",
      "                    # The next pixel has been lit, the model is now stable we can release the lock\n",
      "                rate.sleep()"
     ],
     "language": "python",
     "metadata": {},
     "outputs": []
    },
    {
     "cell_type": "markdown",
     "metadata": {},
     "source": [
      "Now we are actually showing some colors we also want a simulation running to see the result. That will be asked when creating an instance of our app with the parameter `simulation=True`. Similarly we can have `hardware=True`. Finally, to force the `Application` class to take care of all background services we use the `standalone` mode:"
     ]
    },
    {
     "cell_type": "code",
     "collapsed": false,
     "input": [
      "WormApp(simulation=True, standalone=True).start()"
     ],
     "language": "python",
     "metadata": {},
     "outputs": []
    },
    {
     "cell_type": "markdown",
     "metadata": {},
     "source": [
      "Also, don't forget that we have introduced a `color` parameter to our app, that has a default value (red) so facultative, but that we can set to any other color as desired:"
     ]
    },
    {
     "cell_type": "code",
     "collapsed": false,
     "input": [
      "WormApp(simulation=True, standalone=True, color='gold').start()"
     ],
     "language": "python",
     "metadata": {},
     "outputs": []
    },
    {
     "cell_type": "markdown",
     "metadata": {},
     "source": [
      "If you feel ready to go further, you can either experiment with the interative version of Arbalet in these notebooks, or start decomposing the actual applications and games in the form of Python files. Indeed, they include some additional sugar that have not detailed in these tutorials, but makes these applications fully integrated to the Arbalet environment. A good start is the [SimpleTester](https://github.com/arbalet-project/arbapps/tree/master/arbalet/apps/tester) application. "
     ]
    },
    {
     "cell_type": "markdown",
     "metadata": {},
     "source": [
      "Congratulations! You are now ready to develop your own app, make sure you create its own folder in the [`arbapps/`](https://github.com/arbalet-project/arbapps) repository following the same anatomy as existing apps.\n",
      "\n",
      "Arbalet comes with an event framwork that allows to easily write games that are controlled with a keyboard, joystick or the touch interface with a minimal number of lines of code. This is the purpose of the last tutorial."
     ]
    }
   ],
   "metadata": {}
  }
 ]
}